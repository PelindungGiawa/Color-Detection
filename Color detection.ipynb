{
 "cells": [
  {
   "cell_type": "code",
   "execution_count": null,
   "metadata": {},
   "outputs": [],
   "source": [
    "import numpy as np\n",
    "import cv2\n",
    "\n",
    "cap = cv2.VideoCapture(0)\n",
    "\n",
    "while True:\n",
    "    ret, frame = cap.read()\n",
    "    hsv_frame = cv2.cvtColor(frame, cv2.COLOR_BGR2HSV)\n",
    "    \n",
    " #red color\n",
    "    low_red = np.array([161,155,84])\n",
    "    high_red = np.array([179,255,255])\n",
    "    red_mask = cv2.inRange(hsv_frame, low_red, high_red)\n",
    "    red = cv2.bitwise_and(frame, frame, mask=red_mask)\n",
    "    \n",
    "    #blue color\n",
    "    low_blue = np.array([94,80,2])\n",
    "    high_blue = np.array([126,255,255])\n",
    "    blue_mask = cv2.inRange(hsv_frame, low_blue, high_blue)\n",
    "    blue= cv2.bitwise_and(frame, frame, mask=blue_mask)\n",
    "    \n",
    "    #green color\n",
    "    low_green = np.array([25,52,72])\n",
    "    high_green= np.array([179,255,255])\n",
    "    green_mask = cv2.inRange(hsv_frame, low_green, high_green)\n",
    "    green = cv2.bitwise_and(frame, frame, mask=green_mask)\n",
    "    \n",
    "    #every color except white\n",
    "    low = np.array([0,42,0])\n",
    "    high = np.array([179,255,255])\n",
    "    mask = cv2.inRange(hsv_frame, low,high)\n",
    "    result=cv2.bitwise_and(frame,frame,mask=mask)\n",
    " \n",
    "    cv2.imshow('frame',frame)\n",
    "    \n",
    "    cv2.imshow('green',green)\n",
    "    cv2.imshow('result',result)\n",
    "    \n",
    "    if cv2.waitKey(1) & 0xFF == ord('q'):\n",
    "        break\n",
    "\n",
    "cap.release()\n",
    "cv2.destroyAllWindows()\n",
    "   "
   ]
  },
  {
   "cell_type": "code",
   "execution_count": null,
   "metadata": {},
   "outputs": [],
   "source": []
  }
 ],
 "metadata": {
  "kernelspec": {
   "display_name": "Python 3",
   "language": "python",
   "name": "python3"
  },
  "language_info": {
   "codemirror_mode": {
    "name": "ipython",
    "version": 3
   },
   "file_extension": ".py",
   "mimetype": "text/x-python",
   "name": "python",
   "nbconvert_exporter": "python",
   "pygments_lexer": "ipython3",
   "version": "3.7.4"
  }
 },
 "nbformat": 4,
 "nbformat_minor": 2
}
